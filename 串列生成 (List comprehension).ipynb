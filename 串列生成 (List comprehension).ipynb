{
  "nbformat": 4,
  "nbformat_minor": 0,
  "metadata": {
    "colab": {
      "provenance": [],
      "authorship_tag": "ABX9TyMkzB0Xnc50px4QDWw/sYqM",
      "include_colab_link": true
    },
    "kernelspec": {
      "name": "python3",
      "display_name": "Python 3"
    },
    "language_info": {
      "name": "python"
    }
  },
  "cells": [
    {
      "cell_type": "markdown",
      "metadata": {
        "id": "view-in-github",
        "colab_type": "text"
      },
      "source": [
        "<a href=\"https://colab.research.google.com/github/winka/Diary-Practice/blob/main/%E4%B8%B2%E5%88%97%E7%94%9F%E6%88%90%20(List%20comprehension).ipynb\" target=\"_parent\"><img src=\"https://colab.research.google.com/assets/colab-badge.svg\" alt=\"Open In Colab\"/></a>"
      ]
    },
    {
      "cell_type": "code",
      "execution_count": 11,
      "metadata": {
        "colab": {
          "base_uri": "https://localhost:8080/"
        },
        "id": "FU-g50peG1ZX",
        "outputId": "e2ddf2fb-64d4-4d11-daf1-3d304d42dca6"
      },
      "outputs": [
        {
          "output_type": "execute_result",
          "data": {
            "text/plain": [
              "[11, 13, 15, 17, 19]"
            ]
          },
          "metadata": {},
          "execution_count": 11
        }
      ],
      "source": [
        "import random\n",
        "\n",
        "# 串列生成 (List comprehension)\n",
        "\n",
        "list_for = [random.randint(0,100) for i in range(3)]\n",
        "\n",
        "odd_list = [i+10 for i in range(1, 10) if i % 2 == 1]\n",
        "odd_list\n"
      ]
    }
  ]
}