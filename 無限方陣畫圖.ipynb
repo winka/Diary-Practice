{
 "cells": [
  {
   "cell_type": "code",
   "execution_count": null,
   "id": "c602e5b8",
   "metadata": {},
   "outputs": [],
   "source": []
  },
  {
   "cell_type": "code",
   "execution_count": 17,
   "id": "7f8e2542",
   "metadata": {},
   "outputs": [],
   "source": [
    "import turtle\n",
    "# square 1 set \n",
    "turtle.setheading(90)\n",
    "\n",
    "# square 1 100*100\n",
    "turtle.fd(100)\n",
    "turtle.left(90)\n",
    "turtle.fd(100)\n",
    "turtle.left(90)\n",
    "turtle.fd(100)\n",
    "turtle.left(90)\n",
    "turtle.fd(100)\n",
    "turtle.penup()\n",
    "\n",
    "# square 2 set \n",
    "turtle.goto(50, -50)\n",
    "turtle.setheading(90)\n",
    "\n",
    "# square 2 200*200\n",
    "turtle.fd(200)\n",
    "turtle.left(90)\n",
    "turtle.fd(200)\n",
    "turtle.left(90)\n",
    "turtle.fd(200)\n",
    "turtle.left(90)\n",
    "turtle.fd(200)\n",
    "turtle.penup()\n",
    "\n",
    "# square 3 set origin \n",
    "turtle.goto(100, -100)\n",
    "turtle.setheading(90)\n",
    "\n",
    "# square 2 300*300\n",
    "turtle.fd(300)\n",
    "turtle.left(90)\n",
    "turtle.fd(300)\n",
    "turtle.left(90)\n",
    "turtle.fd(300)\n",
    "turtle.left(90)\n",
    "turtle.fd(300)\n",
    "turtle.penup()\n",
    "\n",
    "turtle.done()"
   ]
  },
  {
   "cell_type": "code",
   "execution_count": 1,
   "id": "16d57920",
   "metadata": {},
   "outputs": [],
   "source": [
    "import turtle\n",
    "# 邊長\n",
    "listt = [100,200,300]\n",
    "# 原點位置 \n",
    "origin = [[0,0],[50,-50],[100,-100]]\n",
    "\n",
    "for i in range(3):\n",
    "    # set position & heading \n",
    "    turtle.goto(origin[i][0],origin[i][1])\n",
    "    turtle.setheading(90)\n",
    "    # square draw\n",
    "    turtle.fd(listt[i])\n",
    "    turtle.left(90)\n",
    "    turtle.fd(listt[i])\n",
    "    turtle.left(90)\n",
    "    turtle.fd(listt[i])\n",
    "    turtle.left(90)\n",
    "    turtle.fd(listt[i])\n",
    "    turtle.left(90)\n",
    "    turtle.penup()"
   ]
  },
  {
   "cell_type": "code",
   "execution_count": null,
   "id": "337c6c4e",
   "metadata": {},
   "outputs": [],
   "source": []
  }
 ],
 "metadata": {
  "kernelspec": {
   "display_name": "Python 3 (ipykernel)",
   "language": "python",
   "name": "python3"
  },
  "language_info": {
   "codemirror_mode": {
    "name": "ipython",
    "version": 3
   },
   "file_extension": ".py",
   "mimetype": "text/x-python",
   "name": "python",
   "nbconvert_exporter": "python",
   "pygments_lexer": "ipython3",
   "version": "3.9.13"
  }
 },
 "nbformat": 4,
 "nbformat_minor": 5
}
