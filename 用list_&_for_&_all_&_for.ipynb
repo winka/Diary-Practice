{
  "nbformat": 4,
  "nbformat_minor": 0,
  "metadata": {
    "colab": {
      "provenance": [],
      "authorship_tag": "ABX9TyMGjFG/yDayxVluoUpygx1d",
      "include_colab_link": true
    },
    "kernelspec": {
      "name": "python3",
      "display_name": "Python 3"
    },
    "language_info": {
      "name": "python"
    }
  },
  "cells": [
    {
      "cell_type": "markdown",
      "metadata": {
        "id": "view-in-github",
        "colab_type": "text"
      },
      "source": [
        "<a href=\"https://colab.research.google.com/github/winka/Diary-Practice/blob/main/%E7%94%A8list_%26_for_%26_all_%26_for.ipynb\" target=\"_parent\"><img src=\"https://colab.research.google.com/assets/colab-badge.svg\" alt=\"Open In Colab\"/></a>"
      ]
    },
    {
      "cell_type": "code",
      "execution_count": null,
      "metadata": {
        "colab": {
          "base_uri": "https://localhost:8080/"
        },
        "id": "GaKM-x2_zDS6",
        "outputId": "97ecfa0a-e272-4676-9247-fe0d62f5ba79"
      },
      "outputs": [
        {
          "output_type": "stream",
          "name": "stdout",
          "text": [
            "10255\n"
          ]
        }
      ],
      "source": [
        "# find n1 and n2 數字相同(最小)\n",
        "# ex n1 = 10255 n2 = 20510\n",
        "n = 1\n",
        "\n",
        "while n  :\n",
        "  n1 = str(n)\n",
        "  n2 = str(n*2)\n",
        "  if all([i in n2 for i in n1]+\n",
        "      [i in n1 for i in n2]):\n",
        "    break\n",
        "  n+=1\n",
        "print(n)\n",
        "\n",
        "# Result 10255"
      ]
    }
  ]
}